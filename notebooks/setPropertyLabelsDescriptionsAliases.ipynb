{
 "cells": [
  {
   "cell_type": "markdown",
   "metadata": {
    "raw_mimetype": "text/markdown",
    "slideshow": {
     "slide_type": "-"
    }
   },
   "source": [
    "# Set labels, descriptions and aliases in Spanish"
   ]
  },
  {
   "cell_type": "markdown",
   "metadata": {
    "slideshow": {
     "slide_type": "-"
    }
   },
   "source": [
    "This script has been made to set labels in Spanish for all the Wikidata properties without Spanish labels. Of course, making some changes it can be used to set labels in items and another languages."
   ]
  },
  {
   "cell_type": "markdown",
   "metadata": {
    "slideshow": {
     "slide_type": "-"
    }
   },
   "source": [
    "#### First of all, we have to import the `pywikibot`, `csv` and `datetime` modules."
   ]
  },
  {
   "cell_type": "code",
   "execution_count": 1,
   "metadata": {
    "slideshow": {
     "slide_type": "-"
    }
   },
   "outputs": [],
   "source": [
    "import pywikibot, csv, datetime, logging"
   ]
  },
  {
   "cell_type": "markdown",
   "metadata": {
    "slideshow": {
     "slide_type": "-"
    }
   },
   "source": [
    "#### Then, we have to set the project in which we are going to work, the CSV file and the summary edit.\n",
    "Keep in mind this structure: `pywikibot.Site(\"lang\", \"project\")`. Wikidata isn't separated in multilingual versions, so the options for `lang` are `test` and `wikidata`, so if you want to edit in Wikidata you have to use:\n",
    "`site = pywikibot.Site(\"wikidata\", \"wikidata\")`"
   ]
  },
  {
   "cell_type": "code",
   "execution_count": 4,
   "metadata": {
    "slideshow": {
     "slide_type": "-"
    }
   },
   "outputs": [
    {
     "name": "stdout",
     "output_type": "stream",
     "text": [
      "Where do you want to edit? test or wikidata: wikidata\n",
      "wikidata:wikidata\n"
     ]
    }
   ],
   "source": [
    "test = input(\"Where do you want to edit? test or wikidata: \")\n",
    "site = pywikibot.Site(test, \"wikidata\")\n",
    "print(site)\n",
    "file = \"test.csv\"\n",
    "summary = [\n",
    "    \"setting es-label ([[User talk:CanaryBot|report a problem]])\", \n",
    "    \"setting es-desc ([[User talk:CanaryBot|report a problem]])\",\n",
    "    \"setting es-alias ([[User talk:CanaryBot|report a problem]])\"\n",
    "]\n",
    "time = str(datetime.datetime.now())\n",
    "lang = \"es\""
   ]
  },
  {
   "cell_type": "markdown",
   "metadata": {
    "slideshow": {
     "slide_type": "-"
    }
   },
   "source": [
    "#### `with` statement, `for` loop and log file.\n",
    "\n",
    "First of all, we have to open a `with` statement to open the file and then, we read it with `csv.DictReader`. `DictReader` will allow to check the rows by the header of the CSV, so the first line of the CSV is useful to organize and not for the data (e. g., `Property ID`, `es-label`).\n",
    "\n",
    "This `for` loop will set the Spanish label of each property in the file (`propertyID = row[\"Property\"]`). It is very important to keep the structure of the `propertyLabel` variable as `{u\"es\": row[\"Label\"]}`, where the `row[\"Label\"]` represent the column label of the file for its respective `propertyID`.\n",
    "\n",
    "At the end, the it edit the item to set the Spanish label and the it open a log file to report what the script have done. The report is saved in the format of wikitable. In this new `with` we get again the `propertiesData`, to have the property with the Spanish label and write it in the log."
   ]
  },
  {
   "cell_type": "code",
   "execution_count": 5,
   "metadata": {
    "slideshow": {
     "slide_type": "-"
    }
   },
   "outputs": [
    {
     "name": "stderr",
     "output_type": "stream",
     "text": [
      "P1006\t| label is already in Spanish\n",
      "P1006\t| added \"identificador de la Biblioteca Real Neerlandesa para autores\" description in Spanish\n",
      "P1006\t| added 'identificador de la Biblioteca Real Neerlandesa', 'identificador de la Biblioteca Nacional de los Países Bajos', 'ID NTA' aliases in Spanish\n",
      "P1010\t| added \"identificador de estadísticas de Irán\" label in Spanish\n",
      "P1010\t| added \"identificador para lugares en Irán\" description in Spanish\n",
      "P1010\t| added 'identificador estadístico de Irán', 'lugar Irán', 'lugares Irán' aliases in Spanish\n",
      "P1022\t| label is already in Spanish\n",
      "P1022\t| added \"clasificación española de ocupaciones mantenida por el Instituto Nacional de Estadística de España\" description in Spanish\n",
      "P1022\t| added 'identificador CNO-11', 'código CNO-11', 'ID CNO-11', 'CNO-11' aliases in Spanish\n",
      "P1025\t| label is already in Spanish\n",
      "P1025\t| added \"identificador para ediciones en el Système Universitaire de Documentation (SUDOC)\" description in Spanish\n",
      "P1025\t| aliases are already in Spanish\n",
      "P1025\t| added 'ID SUDOC de edición', ' edición SUDOC', 'libros SUDOC', 'ID SUDOC de libro' additional aliases in Spanish\n"
     ]
    }
   ],
   "source": [
    "with open(file, \"r\") as csvFile:\n",
    "    \n",
    "    reader = csv.DictReader(csvFile)\n",
    "    \n",
    "    propertiesCount = 0\n",
    "    labelsCount = 0\n",
    "    descriptionsCount = 0\n",
    "    aliasesCount = 0\n",
    "    \n",
    "    for row in reader:\n",
    "        propertyID = row[\"Property\"]\n",
    "        propertyLabel = {u\"es\": row[\"Label\"]}\n",
    "        propertyDescription = {u\"es\": row[\"Description\"]}\n",
    "        aliases = str((row[\"Aliases\"])).split(\";\")\n",
    "        propertyAliases = {u\"es\": aliases}\n",
    "        \n",
    "        propertiesCount += 1\n",
    "        \n",
    "        propertyPage = pywikibot.PropertyPage(site, propertyID)\n",
    "        propertyData = propertyPage.get()\n",
    "                        \n",
    "        # Check if the property has a label in Spanish\n",
    "        try:\n",
    "            propertyData[\"labels\"][\"es\"]\n",
    "            pywikibot.logging.output(propertyID + \"\\t| label is already in Spanish\")\n",
    "       \n",
    "        # If not, catch the KeyError\n",
    "        except KeyError:\n",
    "            # Check if the CSV cell in the Label column is empty\n",
    "            if any(row[\"Label\"] in (None, \"\") for key in row):\n",
    "                pywikibot.logging.output(propertyID + \"\\t| there isn't a label in Spanish, but it isn't in the CSV file\")\n",
    "            \n",
    "            # If the cell is not empty, set the label in the property\n",
    "            else:\n",
    "                propertyPage.editLabels(propertyLabel, summary=summary[0])\n",
    "                labelsCount += 1\n",
    "                pywikibot.logging.output(propertyID + '\\t| added \"' + row[\"Label\"] + '\" label in Spanish')\n",
    "        \n",
    "        # Check if the property has a description in Spanish\n",
    "        try:\n",
    "            propertyData[\"descriptions\"][\"es\"]\n",
    "            pywikibot.logging.output(propertyID + \"\\t| description is already in Spanish\" )\n",
    "            \n",
    "        # If not, catch the KeyError\n",
    "        except KeyError:\n",
    "            # Check if the CSV cell in the Description column is empty\n",
    "            if any(row[\"Description\"] in (None, \"\") for key in row):\n",
    "                pywikibot.logging.output(propertyID + \"\\t| there isn't a description in Spanish, but it isn't in the CSV file\")\n",
    "            \n",
    "            # If the cell is not empty, set the description in the property\n",
    "            else:\n",
    "                propertyPage.editDescriptions(propertyDescription, summary=summary[1])\n",
    "                descriptionsCount += 1\n",
    "                pywikibot.logging.output(propertyID + '\\t| added \"' + row[\"Description\"] + '\" description in Spanish')\n",
    "                        \n",
    "        # Check if the property has aliases in Spanish\n",
    "        try:\n",
    "            propertyData[\"aliases\"][\"es\"]\n",
    "            pywikibot.logging.output(propertyID + \"\\t| aliases are already in Spanish\" )\n",
    "            \n",
    "            # Check if the CSV cell in the Aliases column is empty\n",
    "            if any(row[\"Aliases\"] in (None, \"\") for key in row):\n",
    "                pywikibot.logging.output(propertyID + \"\\t| there isn't aliases in Spanish, but it isn't in the CSV file\")\n",
    "            \n",
    "            # If the cell is not empty, set the description in the property\n",
    "            else:\n",
    "                propertyAliases = {u\"es\": aliases + propertyData[\"aliases\"][\"es\"]}\n",
    "                propertyPage.editAliases(propertyAliases, summary=summary[2])\n",
    "                aliasesCount += len(propertyAliases[\"es\"])\n",
    "                pywikibot.logging.output(propertyID + '\\t| added ' + str(aliases).lstrip(\"[\").rstrip(\"]\") + ' additional aliases in Spanish')\n",
    "            \n",
    "        # If the property hasn't aliases, catch the KeyError\n",
    "        except KeyError:\n",
    "            # Check if the CSV cell in the Description column is empty\n",
    "            if any(row[\"Aliases\"] in (None, \"\") for key in row):\n",
    "                pywikibot.logging.output(propertyID + \"\\t| there isn't aliases in Spanish, but it isn't in the CSV file\")\n",
    "            \n",
    "            # If the cell is not empty, set the description in the property\n",
    "            else:\n",
    "                propertyPage.editAliases(propertyAliases, summary=summary[2])\n",
    "                aliasesCount += len(propertyAliases[\"es\"])\n",
    "                pywikibot.logging.output(propertyID + '\\t| added ' + str(aliases).lstrip(\"[\").rstrip(\"]\") + ' aliases in Spanish')\n",
    "            \n",
    "        logging.basicConfig(filename='logs/setPropertyLabelsDescsAliases.log', level=logging.INFO, format='* %(asctime)s » %(message)s', datefmt='%d/%m/%Y %I:%M:%S %p')\n",
    "        "
   ]
  },
  {
   "cell_type": "markdown",
   "metadata": {},
   "source": [
    "#### Then we can get some statistics of the process"
   ]
  },
  {
   "cell_type": "code",
   "execution_count": 7,
   "metadata": {},
   "outputs": [
    {
     "data": {
      "image/png": "[encoded data removed]",
      "text/plain": [
       "<matplotlib.figure.Figure at 0x7f271e50b160>"
      ]
     },
     "metadata": {},
     "output_type": "display_data"
    }
   ],
   "source": [
    "import numpy as npy\n",
    "import matplotlib.pyplot as plt\n",
    "\n",
    "# Tags for the barchart\n",
    "tags = (\"Total properties in\\nwhich the script worked\", \"Labels\", \"Descriptions\", \"Aliases\")\n",
    "# We need to know how many tags to configure the y-axis\n",
    "yPos = npy.arange(len(tags))\n",
    "# We get the data from the variables we use to count how many times we add something to a property\n",
    "data = [propertiesCount, labelsCount, descriptionsCount, aliasesCount]\n",
    "\n",
    "# Configuring the barchart\n",
    "plt.bar(yPos, data, align=\"center\")\n",
    "plt.xticks(yPos, tags)\n",
    "plt.ylabel(\"Quantity\")\n",
    "plt.title(\"Data inserted\")\n",
    "\n",
    "# And after the magic powders...\n",
    "# Magic!\n",
    "plt.show()\n",
    "\n",
    "# Finally, the script print the stats.\n",
    "stats = \"Properties\\t:\\t\" + str(propertiesCount) + \"\\n\\nLabels\\t\\t:\\t\" + str(labelsCount) + \"\\n\\nDescriptions\\t:\\t\" + str(descriptionsCount) + \"\\n\\nAliases\\t\\t:\\t\" + str(aliasesCount) + \"\\n\\n-----------------------------\" + \"\\n\\nTotal changes\\t:\\t\" + str(propertiesCount + labelsCount + descriptionsCount + aliasesCount)"
   ]
  },
  {
   "cell_type": "markdown",
   "metadata": {
    "slideshow": {
     "slide_type": "-"
    }
   },
   "source": [
    "#### Finally, we execute this little piece of code to close the table. Then, we can copy the log to a wiki userpage to make it public."
   ]
  },
  {
   "cell_type": "code",
   "execution_count": 8,
   "metadata": {
    "slideshow": {
     "slide_type": "-"
    }
   },
   "outputs": [
    {
     "name": "stdout",
     "output_type": "stream",
     "text": [
      "Log saved succesfully!\n"
     ]
    },
    {
     "name": "stderr",
     "output_type": "stream",
     "text": [
      "Page [[wikidata:User:CanaryBot/logs/Task 2 test: Set property labels, descriptions and aliases]] saved\n"
     ]
    }
   ],
   "source": [
    "# logPage is where the log is going to be saved.\n",
    "# We can make this or use an input to write the name of the destination page\n",
    "logPage = pywikibot.Page(site, u\"User:CanaryBot/logs/Task 2 test: Set property labels, descriptions and aliases\")\n",
    "\n",
    "# Open, read and copy the log to the logPage\n",
    "with open(\"logs/setPropertyLabelsDescsAliases.log\", \"r\") as logFile:\n",
    "    content = logFile.read()\n",
    "    logPage.text = u\"\"\"{}\\n\\n-------\\n\\n{}\"\"\".format(stats, content)\n",
    "    logPage.save(summary=\"log and stats (without graph) saved\")\n",
    "\n",
    "print(\"Log saved succesfully!\")"
   ]
  }
 ],
 "metadata": {
  "kernelspec": {
   "display_name": "Python 3",
   "language": "python",
   "name": "python3"
  },
  "language_info": {
   "codemirror_mode": {
    "name": "ipython",
    "version": 3
   },
   "file_extension": ".py",
   "mimetype": "text/x-python",
   "name": "python",
   "nbconvert_exporter": "python",
   "pygments_lexer": "ipython3",
   "version": "3.6.3"
  },
  "widgets": {
   "application/vnd.jupyter.widget-state+json": {
    "state": {},
    "version_major": 2,
    "version_minor": 0
   }
  }
 },
 "nbformat": 4,
 "nbformat_minor": 2
}
